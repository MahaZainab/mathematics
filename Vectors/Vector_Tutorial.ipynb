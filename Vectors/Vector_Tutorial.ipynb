{
  "cells": [
    {
      "cell_type": "markdown",
      "metadata": {
        "id": "1CXJIzKXOUOM"
      },
      "source": [
        "# **Vector** **Representation**\n",
        "We can represent vactor by using python library name Numpy array"
      ]
    },
    {
      "cell_type": "code",
      "execution_count": null,
      "metadata": {
        "colab": {
          "base_uri": "https://localhost:8080/"
        },
        "id": "2lBlWzwIOS4T",
        "outputId": "dc5d61df-0c17-40cd-9b47-5dbfd24cf170"
      },
      "outputs": [
        {
          "name": "stdout",
          "output_type": "stream",
          "text": [
            "[1 2 3]\n"
          ]
        }
      ],
      "source": [
        "# create a vector\n",
        "from numpy import array\n",
        "v = array([1, 2, 3])\n",
        "print(v)"
      ]
    },
    {
      "cell_type": "markdown",
      "metadata": {
        "id": "R5d6D26uPDoI"
      },
      "source": [
        "# **Vector Arithmetic**\n",
        "In this section will demonstrate simple vector-vector arithmetic, where all operations are performed element-wise between two vectors of equal length to result in a new vector with the same length"
      ]
    },
    {
      "cell_type": "markdown",
      "metadata": {
        "id": "3VBwhiz8PQjI"
      },
      "source": [
        "# Vector Addition\n",
        "Two vectors of equal length can be added together to create a new third vector.\n",
        "\n",
        "c = a + b\n",
        "\n",
        "The new vector has the same length as the other two vectors. Each element of the new vector is calculated as the addition of the elements of the other vectors at the same index; for example:\n",
        "\n",
        "a + b = (a1 + b1, a2 + b2, a3 + b3)\n",
        "\n",
        "Or, put another way:\n",
        "\n",
        "c[0] = a[0] + b[0]\n",
        "\n",
        "c[1] = a[1] + b[1]\n",
        "\n",
        "c[2] = a[2] + b[2]\n",
        "\n",
        "We can add vectors directly in Python by adding NumPy arrays."
      ]
    },
    {
      "cell_type": "code",
      "execution_count": null,
      "metadata": {
        "colab": {
          "base_uri": "https://localhost:8080/"
        },
        "id": "NQ1mg8pbOtT7",
        "outputId": "3f5ce730-b324-49f9-9240-f0f779b913f3"
      },
      "outputs": [
        {
          "name": "stdout",
          "output_type": "stream",
          "text": [
            "[1 2 3]\n",
            "[1 2 3]\n",
            "[2 4 6]\n"
          ]
        }
      ],
      "source": [
        "from numpy import array\n",
        "a = array([1, 2, 3])\n",
        "print(a)\n",
        "b = array([1, 2, 3])\n",
        "print(b)\n",
        "c = a + b\n",
        "print(c)"
      ]
    },
    {
      "cell_type": "markdown",
      "metadata": {
        "id": "sQTVsfddP8ZP"
      },
      "source": [
        "# Vector Subtraction\n",
        "One vector can be subtracted from another vector of equal length to create a new third vector.\n",
        "\n",
        "c = a - b\n",
        "\n",
        "As with addition, the new vector has the same length as the parent vectors and each element of the new vector is calculated as the subtraction of the elements at the same indices.\n",
        "\n",
        "a - b = (a1 - b1, a2 - b2, a3 - b3)\n",
        "\n",
        "Or, put another way:\n",
        "\n",
        "c[0] = a[0] - b[0]\n",
        "\n",
        "c[1] = a[1] - b[1]\n",
        "\n",
        "c[2] = a[2] - b[2]\n",
        "\n",
        "The NumPy arrays can be directly subtracted in Python."
      ]
    },
    {
      "cell_type": "code",
      "execution_count": null,
      "metadata": {
        "colab": {
          "base_uri": "https://localhost:8080/"
        },
        "id": "K0z2bn36P1bX",
        "outputId": "e62decae-d7a4-4222-a447-1dd4ac44270a"
      },
      "outputs": [
        {
          "name": "stdout",
          "output_type": "stream",
          "text": [
            "[1 2 3]\n",
            "[0.5 0.5 0.5]\n",
            "[0.5 1.5 2.5]\n"
          ]
        }
      ],
      "source": [
        "# subtract vectors\n",
        "from numpy import array\n",
        "a = array([1, 2, 3])\n",
        "print(a)\n",
        "b = array([0.5, 0.5, 0.5])\n",
        "print(b)\n",
        "c = a - b\n",
        "print(c)"
      ]
    },
    {
      "cell_type": "markdown",
      "metadata": {
        "id": "5mA934euQumU"
      },
      "source": [
        "# Vector Multiplication\n",
        "Two vectors of equal length can be multiplied together.\n",
        "\n",
        "c = a * b\n",
        "\n",
        "As with addition and subtraction, this operation is performed element-wise to result in a new vector of the same length.\n",
        "\n",
        "a * b = (a1 * b1, a2 * b2, a3 * b3)\n",
        "or\n",
        "\n",
        "ab = (a1b1, a2b2, a3b3)\n",
        "\n",
        "Or, put another way:\n",
        "\n",
        "c[0] = a[0] * b[0]\n",
        "\n",
        "c[1] = a[1] * b[1]\n",
        "\n",
        "c[2] = a[2] * b[2]\n",
        "\n",
        "We can perform this operation directly in NumPy."
      ]
    },
    {
      "cell_type": "code",
      "execution_count": null,
      "metadata": {
        "colab": {
          "base_uri": "https://localhost:8080/"
        },
        "id": "lSInB0DdQPOh",
        "outputId": "892862ab-c784-4749-e4a2-04729993545a"
      },
      "outputs": [
        {
          "name": "stdout",
          "output_type": "stream",
          "text": [
            "[1 2 3]\n",
            "[1 2 3]\n",
            "[1 4 9]\n"
          ]
        }
      ],
      "source": [
        "# multiply vectors\n",
        "from numpy import array\n",
        "a = array([1, 2, 3])\n",
        "print(a)\n",
        "b = array([1, 2, 3])\n",
        "print(b)\n",
        "c = a * b\n",
        "print(c)"
      ]
    },
    {
      "cell_type": "markdown",
      "metadata": {
        "id": "o9yIwJXIRHQg"
      },
      "source": [
        "# Vector Division\n",
        "Two vectors of equal length can be divided.\n",
        "\n",
        "\n",
        "c = a / b\n",
        "As with other arithmetic operations, this operation is performed element-wise to result in a new vector of the same length.\n",
        "\n",
        "a / b = (a1 / b1, a2 / b2, a3 / b3)\n",
        "or\n",
        "\n",
        "c[0] = a[0] / b[0]\n",
        "\n",
        "c[1] = a[1] / b[1]\n",
        "\n",
        "c[2] = a[2] / b[2]\n",
        "\n",
        "We can perform this operation directly in NumPy."
      ]
    },
    {
      "cell_type": "code",
      "execution_count": null,
      "metadata": {
        "colab": {
          "base_uri": "https://localhost:8080/"
        },
        "id": "oiIRMImTRC1t",
        "outputId": "32554914-cc8f-4a05-a037-0f578849d5ed"
      },
      "outputs": [
        {
          "name": "stdout",
          "output_type": "stream",
          "text": [
            "[6 8 9]\n",
            "[1 2 3]\n",
            "[6. 4. 3.]\n"
          ]
        }
      ],
      "source": [
        "from numpy import array\n",
        "a = array([6, 8, 9])\n",
        "print(a)\n",
        "b = array([1, 2, 3])\n",
        "print(b)\n",
        "c = a / b\n",
        "print(c)"
      ]
    },
    {
      "cell_type": "markdown",
      "metadata": {
        "id": "iGeLqZFKRxGl"
      },
      "source": [
        "# Vector Dot Product\n",
        "We can calculate the sum of the multiplied elements of two vectors of the same length to give a scalar.\n",
        "\n",
        "\n",
        "c = a . b\n",
        "\n",
        "The operation can be used in machine learning to calculate the weighted sum of a vector.\n",
        "\n",
        "The dot product is calculated as follows:\n",
        "\n",
        "a . b = (a1 * b1 + a2 * b2 + a3 * b3)\n",
        "\n",
        "\n",
        "We can calculate the dot product between two vectors in Python using the dot() function on a NumPy array. It can also be calculated using the newer @ operator, since Python version 3.5. The example below demonstrates both methods."
      ]
    },
    {
      "cell_type": "code",
      "execution_count": null,
      "metadata": {
        "colab": {
          "base_uri": "https://localhost:8080/"
        },
        "id": "dNAMh3OiRjI-",
        "outputId": "4da6c64c-ec4f-464c-f122-9f2e0c6cdc44"
      },
      "outputs": [
        {
          "name": "stdout",
          "output_type": "stream",
          "text": [
            "[1 2 3]\n",
            "[1 2 3]\n",
            "14\n",
            "14\n"
          ]
        }
      ],
      "source": [
        "# dot product vectors\n",
        "from numpy import array\n",
        "a = array([1, 2, 3])\n",
        "print(a)\n",
        "b = array([1, 2, 3])\n",
        "print(b)\n",
        "c = a.dot(b)\n",
        "print(c)\n",
        "d = a @ b\n",
        "print(d)"
      ]
    },
    {
      "cell_type": "markdown",
      "metadata": {
        "id": "GKgJXLGJSlia"
      },
      "source": [
        "# Distance from origin"
      ]
    },
    {
      "cell_type": "code",
      "execution_count": null,
      "metadata": {
        "colab": {
          "base_uri": "https://localhost:8080/"
        },
        "id": "PLiShpPbSJNc",
        "outputId": "f441189a-a0d2-4c84-b0ac-798a0239ac01"
      },
      "outputs": [
        {
          "name": "stdout",
          "output_type": "stream",
          "text": [
            "10.488088481701515\n"
          ]
        }
      ],
      "source": [
        "import numpy as np\n",
        "a = np.array([5,6,7])\n",
        "y = np.linalg.norm(a)\n",
        "print(y)\n"
      ]
    },
    {
      "cell_type": "markdown",
      "metadata": {
        "id": "z6hDD96_S4Yo"
      },
      "source": [
        "# Vector-Scalar Multiplication\n",
        "A vector can be multiplied by a scalar, in effect scaling the magnitude of the vector.\n",
        "\n",
        "To keep notation simple, we will use lowercase “s” to represent the scalar value.\n",
        "\n",
        "c = s * v\n",
        "\n",
        "or\n",
        "\n",
        "c = sv\n",
        "\n",
        "The multiplication is performed on each element of the vector to result in a new scaled vector of the same length.\n",
        "\n",
        "s * v = (s * v1, s * v2, s * v3)\n",
        "\n",
        "Or, put another way:\n",
        "\n",
        "c[0] = a[0] * s\n",
        "\n",
        "c[1] = a[1] * s\n",
        "\n",
        "c[2] = a[2] * s\n",
        "\n",
        "We can perform this operation directly with the NumPy array."
      ]
    },
    {
      "cell_type": "code",
      "execution_count": null,
      "metadata": {
        "colab": {
          "base_uri": "https://localhost:8080/"
        },
        "id": "8ZIxCWLVSjrx",
        "outputId": "755e1a3d-83ea-420c-d54e-f1315042351b"
      },
      "outputs": [
        {
          "name": "stdout",
          "output_type": "stream",
          "text": [
            "[1 2 3]\n",
            "0.5\n",
            "[0.5 1.  1.5]\n"
          ]
        }
      ],
      "source": [
        "# vector-scalar multiplication\n",
        "from numpy import array\n",
        "a = array([1, 2, 3])\n",
        "print(a)\n",
        "s = 0.5\n",
        "print(s)\n",
        "c = s * a\n",
        "print(c)"
      ]
    },
    {
      "cell_type": "markdown",
      "metadata": {
        "id": "ahf49aBvT1eQ"
      },
      "source": [
        "# Problem statement\n",
        "A vector is given by, v = 2i + j. Find the magnitude of the vector when it is scaled by a constant of 0.4."
      ]
    },
    {
      "cell_type": "code",
      "execution_count": null,
      "metadata": {
        "colab": {
          "base_uri": "https://localhost:8080/"
        },
        "id": "dSmS7HWITJEM",
        "outputId": "ccf723ad-0e3a-4fec-c6c5-b648fe332be2"
      },
      "outputs": [
        {
          "data": {
            "text/plain": [
              "0.894427190999916"
            ]
          },
          "execution_count": 2,
          "metadata": {},
          "output_type": "execute_result"
        }
      ],
      "source": [
        "import numpy as np\n",
        "v = np.array([2,1])\n",
        "scaled_v = v * (0.4)\n",
        "# now to find magnitude apply norm\n",
        "magnitude_v = np.linalg.norm(scaled_v)\n",
        "magnitude_v"
      ]
    },
    {
      "cell_type": "code",
      "execution_count": null,
      "metadata": {
        "id": "gv4tuZEJUUNA"
      },
      "outputs": [],
      "source": []
    },
    {
      "cell_type": "markdown",
      "metadata": {
        "id": "W27DhnuhUr5Y"
      },
      "source": [
        "Two vectors are given by, a = 2i + j + k and b = i + j + k. Find the dot product of these two vectors."
      ]
    },
    {
      "cell_type": "code",
      "execution_count": null,
      "metadata": {
        "colab": {
          "base_uri": "https://localhost:8080/"
        },
        "id": "8pv-n6FoUchu",
        "outputId": "66cf3678-e0ad-46c9-ed77-be55ca710b5c"
      },
      "outputs": [
        {
          "data": {
            "text/plain": [
              "4"
            ]
          },
          "execution_count": 4,
          "metadata": {},
          "output_type": "execute_result"
        }
      ],
      "source": [
        "a = np.array([2,1,1])\n",
        "b = np.array([1,1,1])\n",
        "c = a.dot(b)\n",
        "c"
      ]
    }
  ],
  "metadata": {
    "colab": {
      "provenance": []
    },
    "kernelspec": {
      "display_name": "Python 3",
      "name": "python3"
    },
    "language_info": {
      "name": "python"
    }
  },
  "nbformat": 4,
  "nbformat_minor": 0
}
