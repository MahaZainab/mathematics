{
  "nbformat": 4,
  "nbformat_minor": 0,
  "metadata": {
    "colab": {
      "provenance": []
    },
    "kernelspec": {
      "name": "python3",
      "display_name": "Python 3"
    },
    "language_info": {
      "name": "python"
    }
  },
  "cells": [
    {
      "cell_type": "markdown",
      "source": [
        "# **Eigenvalues and Eigenvectors**\n",
        "In linear algebra, an eigenvector of a square matrix\n",
        "𝐴\n",
        " is a nonzero vector\n",
        "𝑣\n",
        " that only changes by a scalar factor when the matrix is applied to it. The scalar factor is called the eigenvalue\n",
        "𝜆.\n",
        "\n",
        "Mathematically, this is expressed as:\n",
        "\n",
        "𝐴\n",
        "𝑣\n",
        "=\n",
        "𝜆\n",
        "𝑣\n",
        "\n",
        "where:\n",
        "\n",
        "𝐴\n",
        "A is an\n",
        "𝑛\n",
        "×\n",
        "𝑛\n",
        " matrix,\n",
        "𝑣\n",
        " is an eigenvector (a nonzero column vector), and\n",
        "𝜆\n",
        "is the corresponding eigenvalue (a scalar).\n"
      ],
      "metadata": {
        "id": "Z83S5Zw7Md1K"
      }
    },
    {
      "cell_type": "code",
      "source": [
        "import numpy as np\n",
        "\n",
        "# Define a simple matrix\n",
        "A = np.array([[2, 0],\n",
        "              [0, 3]])\n",
        "\n",
        "# Compute eigenvalues and eigenvectors\n",
        "eigenvalues, eigenvectors = np.linalg.eig(A)\n",
        "\n",
        "print(\"Eigenvalues:\", eigenvalues)\n",
        "print(\"Eigenvectors:\\n\", eigenvectors)"
      ],
      "metadata": {
        "colab": {
          "base_uri": "https://localhost:8080/"
        },
        "id": "PXQf7Yk9LOMH",
        "outputId": "335020e2-6a7e-49df-b921-a2276fb75d19"
      },
      "execution_count": null,
      "outputs": [
        {
          "output_type": "stream",
          "name": "stdout",
          "text": [
            "Eigenvalues: [2. 3.]\n",
            "Eigenvectors:\n",
            " [[1. 0.]\n",
            " [0. 1.]]\n"
          ]
        }
      ]
    },
    {
      "cell_type": "code",
      "source": [
        "import numpy as np\n",
        "\n",
        "# Define a simple 2x2 matrix\n",
        "A = np.array([[4, -2],\n",
        "              [1, 1]])\n",
        "\n",
        "# Compute eigenvalues and eigenvectors\n",
        "eigenvalues, eigenvectors = np.linalg.eig(A)\n",
        "\n",
        "# Display results\n",
        "print(\"Original Matrix A:\\n\", A)\n",
        "print(\"\\nEigenvalues:\\n\", eigenvalues)\n",
        "print(\"\\nEigenvectors:\\n\", eigenvectors)\n",
        "\n",
        "\n",
        "\n"
      ],
      "metadata": {
        "colab": {
          "base_uri": "https://localhost:8080/"
        },
        "id": "BqfWN78-cpFf",
        "outputId": "25f140ba-7414-4c2d-bd11-ea844f7ca162"
      },
      "execution_count": null,
      "outputs": [
        {
          "output_type": "stream",
          "name": "stdout",
          "text": [
            "Original Matrix A:\n",
            " [[ 4 -2]\n",
            " [ 1  1]]\n",
            "\n",
            "Eigenvalues:\n",
            " [3. 2.]\n",
            "\n",
            "Eigenvectors:\n",
            " [[0.89442719 0.70710678]\n",
            " [0.4472136  0.70710678]]\n"
          ]
        }
      ]
    },
    {
      "cell_type": "code",
      "source": [
        "import numpy as np\n",
        "\n",
        "# Define matrix\n",
        "A = np.array([[4, -2], [1, 1]])\n",
        "\n",
        "# Compute eigenvalues and eigenvectors\n",
        "eigenvalues, eigenvectors = np.linalg.eig(A)\n",
        "\n",
        "# Convert first eigenvector to integer form\n",
        "eigenvectors_scaled = eigenvectors / np.min(np.abs(eigenvectors), axis=0)\n",
        "\n",
        "print(\"Eigenvalues:\\n\", eigenvalues)\n",
        "print(\"Eigenvectors (original):\\n\", eigenvectors)\n",
        "print(\"Eigenvectors (scaled to integers):\\n\", np.round(eigenvectors_scaled))\n"
      ],
      "metadata": {
        "id": "XwVdiLhoPgCN",
        "outputId": "c0cbef4c-3c99-4633-8a9a-a3488b937117",
        "colab": {
          "base_uri": "https://localhost:8080/"
        }
      },
      "execution_count": null,
      "outputs": [
        {
          "output_type": "stream",
          "name": "stdout",
          "text": [
            "Eigenvalues:\n",
            " [3. 2.]\n",
            "Eigenvectors (original):\n",
            " [[0.89442719 0.70710678]\n",
            " [0.4472136  0.70710678]]\n",
            "Eigenvectors (scaled to integers):\n",
            " [[2. 1.]\n",
            " [1. 1.]]\n"
          ]
        }
      ]
    },
    {
      "cell_type": "code",
      "execution_count": null,
      "metadata": {
        "colab": {
          "base_uri": "https://localhost:8080/"
        },
        "id": "kTOIIBnTcMLG",
        "outputId": "b30a3bc6-2efe-4396-bc98-937de6aa6ed0"
      },
      "outputs": [
        {
          "output_type": "stream",
          "name": "stdout",
          "text": [
            "Eigenvalues:\n",
            " [5. 2.]\n",
            "Eigenvectors:\n",
            " [[ 0.89442719 -0.70710678]\n",
            " [ 0.4472136   0.70710678]]\n"
          ]
        }
      ],
      "source": [
        "import numpy as np\n",
        "\n",
        "# Define a 2x2 matrix\n",
        "A = np.array([[4, 2],\n",
        "              [1, 3]])\n",
        "\n",
        "# Compute eigenvalues and eigenvectors\n",
        "eigenvalues, eigenvectors = np.linalg.eig(A)\n",
        "\n",
        "print(\"Eigenvalues:\\n\", eigenvalues)\n",
        "print(\"Eigenvectors:\\n\", eigenvectors)\n"
      ]
    },
    {
      "cell_type": "code",
      "source": [
        "B = np.array([[5, -2, 2],\n",
        "              [-2, 8, 4],\n",
        "              [2, 4, 7]])\n",
        "\n",
        "eigenvalues, eigenvectors = np.linalg.eig(B)\n",
        "\n",
        "print(\"Eigenvalues:\\n\", eigenvalues)\n",
        "print(\"Eigenvectors:\\n\", eigenvectors)\n"
      ],
      "metadata": {
        "colab": {
          "base_uri": "https://localhost:8080/"
        },
        "id": "bb_7zw0KcPsk",
        "outputId": "ab5b4806-0050-4e3b-f59a-00eef45eff54"
      },
      "execution_count": null,
      "outputs": [
        {
          "output_type": "stream",
          "name": "stdout",
          "text": [
            "Eigenvalues:\n",
            " [ 1.30839243  7.15491213 11.53669544]\n",
            "Eigenvectors:\n",
            " [[-0.60772636 -0.79351536 -0.03165517]\n",
            " [-0.53335545  0.37829675  0.75658676]\n",
            " [ 0.58838816 -0.47668118  0.65312665]]\n"
          ]
        }
      ]
    }
  ]
}