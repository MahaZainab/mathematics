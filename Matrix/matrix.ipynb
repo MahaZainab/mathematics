{
 "cells": [
  {
   "cell_type": "code",
   "execution_count": 1,
   "metadata": {},
   "outputs": [
    {
     "name": "stdout",
     "output_type": "stream",
     "text": [
      "Defaulting to user installation because normal site-packages is not writeableNote: you may need to restart the kernel to use updated packages.\n",
      "\n",
      "Requirement already satisfied: numpy in c:\\users\\pc\\appdata\\roaming\\python\\python312\\site-packages (1.26.4)\n"
     ]
    },
    {
     "name": "stderr",
     "output_type": "stream",
     "text": [
      "\n",
      "[notice] A new release of pip is available: 24.3.1 -> 25.0.1\n",
      "[notice] To update, run: python.exe -m pip install --upgrade pip\n"
     ]
    }
   ],
   "source": [
    "pip install numpy"
   ]
  },
  {
   "cell_type": "code",
   "execution_count": 2,
   "metadata": {},
   "outputs": [
    {
     "name": "stdout",
     "output_type": "stream",
     "text": [
      "Matrix A:\n",
      " [[1 2]\n",
      " [3 4]]\n",
      "Matrix B:\n",
      " [[2 0]\n",
      " [1 2]]\n",
      "Matrix Multiplication of A and B:\n",
      " [[ 4  4]\n",
      " [10  8]]\n",
      "Transpose of Matrix A:\n",
      " [[1 3]\n",
      " [2 4]]\n",
      "Inverse of Matrix A:\n",
      " [[-2.   1. ]\n",
      " [ 1.5 -0.5]]\n",
      "Identity Matrix of size 2:\n",
      " [[1. 0.]\n",
      " [0. 1.]]\n",
      "Diagonal Matrix from [1, 2, 3]:\n",
      " [[1 0 0]\n",
      " [0 2 0]\n",
      " [0 0 3]]\n",
      "Symmetric Matrix from A:\n",
      " [[1.  2.5]\n",
      " [2.5 4. ]]\n"
     ]
    }
   ],
   "source": [
    "import numpy as np\n",
    "\n",
    "# Example Matrices\n",
    "A = np.array([[1, 2], [3, 4]])\n",
    "B = np.array([[2, 0], [1, 2]])\n",
    "\n",
    "# Matrix Multiplication\n",
    "def matrix_multiplication(A, B):\n",
    "    return np.dot(A, B)\n",
    "\n",
    "# Matrix Transpose\n",
    "def matrix_transpose(A):\n",
    "    return A.T\n",
    "\n",
    "# Matrix Inverse\n",
    "def matrix_inverse(A):\n",
    "    if np.linalg.det(A) == 0:\n",
    "        return \"Matrix is singular and cannot be inverted\"\n",
    "    else:\n",
    "        return np.linalg.inv(A)\n",
    "\n",
    "# Identity Matrix\n",
    "def identity_matrix(size):\n",
    "    return np.eye(size)\n",
    "\n",
    "# Diagonal Matrix\n",
    "def diagonal_matrix(diagonal_elements):\n",
    "    return np.diag(diagonal_elements)\n",
    "\n",
    "# Symmetric Matrix\n",
    "def symmetric_matrix(A):\n",
    "    return (A + A.T) / 2\n",
    "\n",
    "# Demonstrations\n",
    "print(\"Matrix A:\\n\", A)\n",
    "print(\"Matrix B:\\n\", B)\n",
    "\n",
    "print(\"Matrix Multiplication of A and B:\\n\", matrix_multiplication(A, B))\n",
    "print(\"Transpose of Matrix A:\\n\", matrix_transpose(A))\n",
    "print(\"Inverse of Matrix A:\\n\", matrix_inverse(A))\n",
    "print(\"Identity Matrix of size 2:\\n\", identity_matrix(2))\n",
    "print(\"Diagonal Matrix from [1, 2, 3]:\\n\", diagonal_matrix([1, 2, 3]))\n",
    "print(\"Symmetric Matrix from A:\\n\", symmetric_matrix(A))\n"
   ]
  },
  {
   "cell_type": "code",
   "execution_count": null,
   "metadata": {},
   "outputs": [],
   "source": []
  }
 ],
 "metadata": {
  "kernelspec": {
   "display_name": "Python 3",
   "language": "python",
   "name": "python3"
  },
  "language_info": {
   "codemirror_mode": {
    "name": "ipython",
    "version": 3
   },
   "file_extension": ".py",
   "mimetype": "text/x-python",
   "name": "python",
   "nbconvert_exporter": "python",
   "pygments_lexer": "ipython3",
   "version": "3.12.5"
  }
 },
 "nbformat": 4,
 "nbformat_minor": 2
}
