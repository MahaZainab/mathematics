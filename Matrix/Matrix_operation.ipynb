{
  "nbformat": 4,
  "nbformat_minor": 0,
  "metadata": {
    "colab": {
      "provenance": []
    },
    "kernelspec": {
      "name": "python3",
      "display_name": "Python 3"
    },
    "language_info": {
      "name": "python"
    }
  },
  "cells": [
    {
      "cell_type": "markdown",
      "source": [
        "# **What is a Matrix?**\n",
        "A matrix is a two-dimensional array (a table) of numbers.\n"
      ],
      "metadata": {
        "id": "lVUCSIM-dt1y"
      }
    },
    {
      "cell_type": "markdown",
      "source": [
        "# **Type of Matrix**\n",
        "Square Matrix\n",
        "\n",
        "Symmetric Matrix\n",
        "\n",
        "Triangular Matrix\n",
        "\n",
        "Diagonal Matrix\n",
        "\n",
        "Identity Matrix"
      ],
      "metadata": {
        "id": "MTX7m00rko0W"
      }
    },
    {
      "cell_type": "markdown",
      "source": [
        "# Defining a Matrix\n",
        "We can represent a matrix in Python using a two-dimensional NumPy array.\n",
        "\n",
        "A NumPy array can be constructed given a list of lists. For example, below is a 2 row, 3 column matrix."
      ],
      "metadata": {
        "id": "BBoRzvoed2jb"
      }
    },
    {
      "cell_type": "code",
      "execution_count": null,
      "metadata": {
        "colab": {
          "base_uri": "https://localhost:8080/"
        },
        "id": "3VIE5DMtdgZE",
        "outputId": "1be152d4-7291-4bb0-f283-c6f6f8e8ff01"
      },
      "outputs": [
        {
          "output_type": "stream",
          "name": "stdout",
          "text": [
            "[[1 2 3]\n",
            " [4 5 6]]\n"
          ]
        }
      ],
      "source": [
        "# create matrix\n",
        "from numpy import array\n",
        "A = array([[1, 2, 3], [4, 5, 6]])\n",
        "print(A)"
      ]
    },
    {
      "cell_type": "markdown",
      "source": [
        "# **Matrix Arithmetic**"
      ],
      "metadata": {
        "id": "5fAiFt8PeRj9"
      }
    },
    {
      "cell_type": "markdown",
      "source": [
        "# Matrix Addition\n",
        "Two matrices with the same dimensions can be added together to create a new third matrix.\n",
        "\n",
        "C = A + B\n",
        "\n",
        "The scalar elements in the resulting matrix are calculated as the addition of the elements in each of the matrices being added.\n"
      ],
      "metadata": {
        "id": "oaP4ogVDeVxF"
      }
    },
    {
      "cell_type": "markdown",
      "source": [
        "We can implement this in python using the plus operator directly on the two NumPy arrays."
      ],
      "metadata": {
        "id": "CSTl_HuzezMZ"
      }
    },
    {
      "cell_type": "code",
      "source": [
        "from numpy import array\n",
        "A = array([[1, 2, 3], [4, 5, 6]])\n",
        "print(A)\n",
        "B = array([[1, 2, 3], [4, 5, 6]])\n",
        "print(B)\n",
        "C = A + B\n",
        "print(C)"
      ],
      "metadata": {
        "colab": {
          "base_uri": "https://localhost:8080/"
        },
        "id": "79jlfCpUeNeK",
        "outputId": "d62da03d-051f-4d01-8732-4c8aa38d37bc"
      },
      "execution_count": null,
      "outputs": [
        {
          "output_type": "stream",
          "name": "stdout",
          "text": [
            "[[1 2 3]\n",
            " [4 5 6]]\n",
            "[[1 2 3]\n",
            " [4 5 6]]\n",
            "[[ 2  4  6]\n",
            " [ 8 10 12]]\n"
          ]
        }
      ]
    },
    {
      "cell_type": "markdown",
      "source": [
        "# Matrix Subtraction\n",
        "Similarly, one matrix can be subtracted from another matrix with the same dimensions.\n",
        "\n",
        "C = A - B\n",
        "\n",
        "The scalar elements in the resulting matrix are calculated as the subtraction of the elements in each of the matrices."
      ],
      "metadata": {
        "id": "DozI7Hjte4FD"
      }
    },
    {
      "cell_type": "code",
      "source": [
        "# subtract matrices\n",
        "from numpy import array\n",
        "A = array([[1, 2, 3], [4, 5, 6]])\n",
        "print(A)\n",
        "B = array([[0.5, 0.5, 0.5], [0.5, 0.5, 0.5]])\n",
        "print(B)\n",
        "C = A - B\n",
        "print(C)"
      ],
      "metadata": {
        "colab": {
          "base_uri": "https://localhost:8080/"
        },
        "id": "9115FrgFe3A8",
        "outputId": "1744d6d0-bb97-41b9-e2de-b2b40bd23d24"
      },
      "execution_count": null,
      "outputs": [
        {
          "output_type": "stream",
          "name": "stdout",
          "text": [
            "[[1 2 3]\n",
            " [4 5 6]]\n",
            "[[0.5 0.5 0.5]\n",
            " [0.5 0.5 0.5]]\n",
            "[[0.5 1.5 2.5]\n",
            " [3.5 4.5 5.5]]\n"
          ]
        }
      ]
    },
    {
      "cell_type": "markdown",
      "source": [
        "# Matrix Multiplication (Hadamard Product)\n",
        "\n",
        "Two matrices with the same size can be multiplied together, and this is often called element-wise matrix multiplication or the Hadamard product.\n",
        "\n",
        "It is not the typical operation meant when referring to matrix multiplication, therefore a different operator is often used, such as a circle “o”.\n",
        "\n",
        "C = A o B\n",
        "\n",
        "As with element-wise subtraction and addition, element-wise multiplication involves the multiplication of elements from each parent matrix to calculate the values in the new matrix."
      ],
      "metadata": {
        "id": "gJUlo5dqfbtP"
      }
    },
    {
      "cell_type": "code",
      "source": [
        "# element-wise multiply matrices\n",
        "from numpy import array\n",
        "A = array([[1, 2, 3], [4, 5, 6]])\n",
        "print(A)\n",
        "B = array([[1, 2, 3], [4, 5, 6]])\n",
        "print(B)\n",
        "C = A * B\n",
        "print(C)"
      ],
      "metadata": {
        "colab": {
          "base_uri": "https://localhost:8080/"
        },
        "id": "vNkwXdZSfLuc",
        "outputId": "c2d8ac85-b453-4bd8-93f2-a58146e5ede4"
      },
      "execution_count": null,
      "outputs": [
        {
          "output_type": "stream",
          "name": "stdout",
          "text": [
            "[[1 2 3]\n",
            " [4 5 6]]\n",
            "[[1 2 3]\n",
            " [4 5 6]]\n",
            "[[ 1  4  9]\n",
            " [16 25 36]]\n"
          ]
        }
      ]
    },
    {
      "cell_type": "markdown",
      "source": [
        "# Matrix Division\n",
        "One matrix can be divided by another matrix with the same dimensions.\n",
        "\n",
        "C = A / B\n",
        "\n",
        "The scalar elements in the resulting matrix are calculated as the division of the elements in each of the matrices."
      ],
      "metadata": {
        "id": "tGfFD-RnfzWS"
      }
    },
    {
      "cell_type": "code",
      "source": [
        "# divide matrices\n",
        "from numpy import array\n",
        "A = array([[1, 2, 3], [4, 5, 6]])\n",
        "print(A)\n",
        "B = array([[1, 2, 3], [4, 5, 6]])\n",
        "print(B)\n",
        "C = A / B\n",
        "print(C)"
      ],
      "metadata": {
        "colab": {
          "base_uri": "https://localhost:8080/"
        },
        "id": "0bfgsTDkfplL",
        "outputId": "7b147c4b-652d-436c-82bf-90fa9f9df296"
      },
      "execution_count": null,
      "outputs": [
        {
          "output_type": "stream",
          "name": "stdout",
          "text": [
            "[[1 2 3]\n",
            " [4 5 6]]\n",
            "[[1 2 3]\n",
            " [4 5 6]]\n",
            "[[1. 1. 1.]\n",
            " [1. 1. 1.]]\n"
          ]
        }
      ]
    },
    {
      "cell_type": "markdown",
      "source": [
        "# ***Very Very Very Imp Topic in Matrix operation***"
      ],
      "metadata": {
        "id": "j0IiLPy5gDl6"
      }
    },
    {
      "cell_type": "markdown",
      "source": [
        "# Matrix-Matrix Multiplication (Dot Product)\n",
        "Matrix multiplication, also called the matrix dot product is more complicated than the previous operations and involves a rule as not all matrices can be multiplied together.\n",
        "\n",
        "C = A * B\n",
        "or\n",
        "\n",
        "C = AB\n",
        "\n",
        "The rule for matrix multiplication is as follows:\n",
        "\n",
        "The number of columns (n) in the first matrix (A) must equal the number of rows (m) in the second matrix (B).\n",
        "For example, matrix A has the dimensions m rows and n columns and matrix B has the dimensions n and k. The n columns in A and n rows b are equal. The result is a new matrix with m rows and k columns."
      ],
      "metadata": {
        "id": "2RNNGJAMgODC"
      }
    },
    {
      "cell_type": "markdown",
      "source": [
        "# One of the most important operations involving matrices is multiplication of two matrices. The matrix product of matrices A and B is a third matrix C. In order for this product to be defined, A must have the same number of columns as B has rows. If A is of shape m × n and B is of shape n × p, then C is of shape m × p."
      ],
      "metadata": {
        "id": "LbJB9TNugskV"
      }
    },
    {
      "cell_type": "markdown",
      "source": [
        "![Depection-of-Matrix-Multiplication.webp](data:image/webp;base64,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)"
      ],
      "metadata": {
        "id": "AUaqphV2g1Dz"
      }
    },
    {
      "cell_type": "code",
      "source": [
        "from numpy import array\n",
        "A = array([[1, 2], [3, 4], [5, 6]])\n",
        "print(A)\n",
        "B = array([[1, 2], [3, 4]])\n",
        "print(B)\n",
        "C = A.dot(B)\n",
        "print(C)"
      ],
      "metadata": {
        "colab": {
          "base_uri": "https://localhost:8080/"
        },
        "id": "hMkQXBYBf8z1",
        "outputId": "a8b5bd02-1f01-45b4-dce6-8e268f209a0a"
      },
      "execution_count": null,
      "outputs": [
        {
          "output_type": "stream",
          "name": "stdout",
          "text": [
            "[[1 2]\n",
            " [3 4]\n",
            " [5 6]]\n",
            "[[1 2]\n",
            " [3 4]]\n",
            "[[ 7 10]\n",
            " [15 22]\n",
            " [23 34]]\n"
          ]
        }
      ]
    },
    {
      "cell_type": "markdown",
      "source": [
        "# Matrix-Scalar Multiplication\n",
        "A matrix can be multiplied by a scalar.\n",
        "\n",
        "This can be represented using the dot notation between the matrix and the scalar.\n",
        "\n",
        "C = A . b\n",
        "\n",
        "Or without the dot notation.\n",
        "\n",
        "C = Ab\n",
        "\n",
        "The result is a matrix with the same size as the parent matrix where each element of the matrix is multiplied by the scalar value."
      ],
      "metadata": {
        "id": "8c3CT8gNhwWN"
      }
    },
    {
      "cell_type": "code",
      "source": [
        "# matrix-scalar multiplication\n",
        "from numpy import array\n",
        "A = array([[1, 2], [3, 4], [5, 6]])\n",
        "print(A)\n",
        "b = 0.5\n",
        "print(b)\n",
        "C = A * b\n",
        "print(C)"
      ],
      "metadata": {
        "colab": {
          "base_uri": "https://localhost:8080/"
        },
        "id": "OvSCiy7ihckQ",
        "outputId": "62014869-fad9-4f7d-d0fd-cb562b028b8c"
      },
      "execution_count": null,
      "outputs": [
        {
          "output_type": "stream",
          "name": "stdout",
          "text": [
            "[[1 2]\n",
            " [3 4]\n",
            " [5 6]]\n",
            "0.5\n",
            "[[0.5 1. ]\n",
            " [1.5 2. ]\n",
            " [2.5 3. ]]\n"
          ]
        }
      ]
    },
    {
      "cell_type": "markdown",
      "source": [
        "# Transpose\n",
        "A defined matrix can be transposed, which creates a new matrix with the number of columns and rows flipped.\n",
        "\n",
        "This is denoted by the superscript “T” next to the matrix.\n",
        "\n",
        "C = A^T\n",
        "\n",
        "An invisible diagonal line can be drawn through the matrix from top left to bottom right on which the matrix can be flipped to give the transpose."
      ],
      "metadata": {
        "id": "zv_bCqLEiFtl"
      }
    },
    {
      "cell_type": "code",
      "source": [
        "# transpose matrix\n",
        "from numpy import array\n",
        "A = array([[1, 2], [3, 4], [5, 6]])\n",
        "print(A)\n",
        "C = A.T\n",
        "print(C)"
      ],
      "metadata": {
        "colab": {
          "base_uri": "https://localhost:8080/"
        },
        "id": "oFGwxpXQh8Rg",
        "outputId": "c27ca1d4-74f4-4c82-ab0f-4006a52c54cc"
      },
      "execution_count": null,
      "outputs": [
        {
          "output_type": "stream",
          "name": "stdout",
          "text": [
            "[[1 2]\n",
            " [3 4]\n",
            " [5 6]]\n",
            "[[1 3 5]\n",
            " [2 4 6]]\n"
          ]
        }
      ]
    },
    {
      "cell_type": "code",
      "source": [],
      "metadata": {
        "id": "4kSbKvlliWD5"
      },
      "execution_count": null,
      "outputs": []
    }
  ]
}